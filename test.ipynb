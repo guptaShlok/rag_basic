{
 "cells": [
  {
   "cell_type": "code",
   "execution_count": 34,
   "metadata": {},
   "outputs": [
    {
     "data": {
      "text/plain": [
       "True"
      ]
     },
     "execution_count": 34,
     "metadata": {},
     "output_type": "execute_result"
    }
   ],
   "source": [
    "##Retrieval augmented generation\n",
    "\n",
    "import os\n",
    "from dotenv import load_dotenv\n",
    "load_dotenv()\n"
   ]
  },
  {
   "cell_type": "code",
   "execution_count": 35,
   "metadata": {},
   "outputs": [],
   "source": [
    "os.environ['OPENAI_API_KEY'] = os.getenv(\"OPENAI_API_KEY\")\n",
    "os.environ['LLamaIndex_API_KEY'] = os.getenv(\"LLamaIndex_API_KEY\")"
   ]
  },
  {
   "cell_type": "code",
   "execution_count": 37,
   "metadata": {},
   "outputs": [],
   "source": [
    "openai_api_key = os.getenv(\"OPENAI_API_KEY\")\n",
    "llamaindex_api_key = os.getenv(\"LLAMAINDEX_API_KEY\")"
   ]
  },
  {
   "cell_type": "code",
   "execution_count": 40,
   "metadata": {},
   "outputs": [],
   "source": [
    "from llama_index.core import VectorStoreIndex, SimpleDirectoryReader\n",
    "documents=SimpleDirectoryReader(\"data\").load_data()"
   ]
  },
  {
   "cell_type": "code",
   "execution_count": 42,
   "metadata": {},
   "outputs": [
    {
     "name": "stderr",
     "output_type": "stream",
     "text": [
      "Parsing nodes: 100%|██████████| 30/30 [00:00<00:00, 118.73it/s]\n",
      "Generating embeddings: 100%|██████████| 49/49 [00:03<00:00, 16.30it/s]\n"
     ]
    }
   ],
   "source": [
    "index = VectorStoreIndex.from_documents(documents,show_progress=True)\n",
    "query_engine = index.as_query_engine()"
   ]
  },
  {
   "cell_type": "code",
   "execution_count": 58,
   "metadata": {},
   "outputs": [],
   "source": [
    "from llama_index.core.retrievers import VectorIndexRetriever\n",
    "from llama_index.core.query_engine import RetrieverQueryEngine\n",
    "from llama_index.core.indices.postprocessor import SimilarityPostprocessor\n",
    "\n",
    "retriever=VectorIndexRetriever(index=index, similarity_top_k=4)\n",
    "\n",
    "query_engine=RetrieverQueryEngine(retriever=retriever)"
   ]
  },
  {
   "cell_type": "code",
   "execution_count": 59,
   "metadata": {},
   "outputs": [
    {
     "name": "stdout",
     "output_type": "stream",
     "text": [
      "The output of the diode after the rectification process consists of a dc component as well as fundamental and higher-order harmonics due to the nonlinearity behavior of the diode.\n"
     ]
    }
   ],
   "source": [
    "response = query_engine.query(\"what is recitification prinicple \")\n",
    "print(response)"
   ]
  },
  {
   "cell_type": "code",
   "execution_count": 61,
   "metadata": {},
   "outputs": [
    {
     "name": "stdout",
     "output_type": "stream",
     "text": [
      "Final Response: The output of the diode after the rectification\n",
      "process consists of a dc component as well as fundamental and higher-\n",
      "order harmonics due to the nonlinearity behavior of the diode.\n",
      "______________________________________________________________________\n",
      "Source Node 1/4\n",
      "Node ID: 34fab2e0-7956-4806-bf22-160be01adc1f\n",
      "Similarity: 0.7729502401904839\n",
      "Text: January 2023   55 techniques have been adopted to stabilize\n",
      "rectifier  performance in dynamic environmental conditions.  A\n",
      "resistance compression network (RCN) formed by  parallel branches with\n",
      "opposite phase responses can  reduce the sensitivity of the rectifier\n",
      "to variations  in the input power and load [ 54]. However, an RCN\n",
      "compresses only ...\n",
      "______________________________________________________________________\n",
      "Source Node 2/4\n",
      "Node ID: 8231d1e5-515a-4cc0-973a-49d9a08828a5\n",
      "Similarity: 0.7725808009179199\n",
      "Text: January 2023   47 and the Internet of Things [ 1], [2]. Figure\n",
      "1(a) displays  a conceptual diagram of an RFEH/WPT system. To  capture\n",
      "power from free space that is transmitted by  the base station, the\n",
      "harvesting node needs a receiv - ing antenna and rectifier to convert\n",
      "the power into dc  signals. This dc output is then further utilized to\n",
      "feed...\n",
      "______________________________________________________________________\n",
      "Source Node 3/4\n",
      "Node ID: e835d7be-edef-47c2-9eff-b70007dfd627\n",
      "Similarity: 0.7701966015521434\n",
      "Text: 56     January 2023 port of the BLC was connected to a low-power\n",
      "subrec - tifier that collected and recycled the reflected power of\n",
      "the main branch. However, insertion loss due to the extra  components,\n",
      "such as the power divider and coupler, was  unavoidable, resulting in\n",
      "performance degradation. In  [59], the automatic input power\n",
      "distribution...\n",
      "______________________________________________________________________\n",
      "Source Node 4/4\n",
      "Node ID: b61fbe8c-9168-429b-b0d8-107c39ee5b63\n",
      "Similarity: 0.7701839987801948\n",
      "Text: January 2023   59 the highest power, while Z 4,0in  is the input\n",
      "impedance  with the lowest power. At ,180°T{ =  all energy flows\n",
      "toward port 4, and ,ZZ2,180 4,0in in=  and .ZZ4,180 2,0in in=   This\n",
      "means automatic impedance matching occurs,  which ensures less\n",
      "deviation in the PCE for a wide  range of .T{ PCE Improvement\n",
      "Techniques The efficie...\n",
      "The output of the diode after the rectification process consists of a dc component as well as fundamental and higher-order harmonics due to the nonlinearity behavior of the diode.\n"
     ]
    }
   ],
   "source": [
    "from llama_index.core.response.pprint_utils import pprint_response\n",
    "pprint_response(response, show_source=True)\n",
    "print(response)"
   ]
  },
  {
   "cell_type": "code",
   "execution_count": 62,
   "metadata": {},
   "outputs": [
    {
     "name": "stdout",
     "output_type": "stream",
     "text": [
      "The author was born in Henan, China.\n"
     ]
    }
   ],
   "source": [
    "import os.path\n",
    "from llama_index.core import (\n",
    "    VectorStoreIndex,\n",
    "    SimpleDirectoryReader,\n",
    "    StorageContext,\n",
    "    load_index_from_storage,\n",
    ")\n",
    "\n",
    "# check if storage already exists\n",
    "PERSIST_DIR = \"./storage\"\n",
    "if not os.path.exists(PERSIST_DIR):\n",
    "    # load the documents and create the index\n",
    "    documents = SimpleDirectoryReader(\"data\").load_data()\n",
    "    index = VectorStoreIndex.from_documents(documents)\n",
    "    # store it for later\n",
    "    index.storage_context.persist(persist_dir=PERSIST_DIR)\n",
    "else:\n",
    "    # load the existing index\n",
    "    storage_context = StorageContext.from_defaults(persist_dir=PERSIST_DIR)\n",
    "    index = load_index_from_storage(storage_context)\n",
    "\n",
    "# Either way we can now query the index\n",
    "query_engine = index.as_query_engine()\n",
    "response = query_engine.query(\"What did the author do growing up?\")\n",
    "print(response)"
   ]
  }
 ],
 "metadata": {
  "kernelspec": {
   "display_name": "Python 3",
   "language": "python",
   "name": "python3"
  },
  "language_info": {
   "codemirror_mode": {
    "name": "ipython",
    "version": 3
   },
   "file_extension": ".py",
   "mimetype": "text/x-python",
   "name": "python",
   "nbconvert_exporter": "python",
   "pygments_lexer": "ipython3",
   "version": "3.10.15"
  }
 },
 "nbformat": 4,
 "nbformat_minor": 2
}
